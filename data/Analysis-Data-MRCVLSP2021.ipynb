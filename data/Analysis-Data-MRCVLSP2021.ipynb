{
 "cells": [
  {
   "cell_type": "code",
   "execution_count": 1,
   "id": "bb789f1e",
   "metadata": {},
   "outputs": [],
   "source": [
    "import json"
   ]
  },
  {
   "cell_type": "code",
   "execution_count": 3,
   "id": "1a21d305",
   "metadata": {},
   "outputs": [],
   "source": [
    "with open(\"./train.json\", \"r\", encoding='utf-8') as reader:\n",
    "    input_data = json.load(reader)[\"data\"]\n",
    "    reader.close()"
   ]
  },
  {
   "cell_type": "code",
   "execution_count": 4,
   "id": "319b28f4",
   "metadata": {},
   "outputs": [
    {
     "name": "stdout",
     "output_type": "stream",
     "text": [
      "138\n"
     ]
    }
   ],
   "source": [
    "print(len(input_data)) # 138 articles"
   ]
  },
  {
   "cell_type": "code",
   "execution_count": 16,
   "id": "84f5a592",
   "metadata": {},
   "outputs": [],
   "source": [
    "def length_data_per_tokenizer(file_path, tokenizer):\n",
    "    length_contexts = []\n",
    "    length_qas = []\n",
    "    length_ans = []\n",
    "    length_query_context = []\n",
    "    num_contexts = 0\n",
    "    num_qas = 0\n",
    "    num_ans = 0\n",
    "    for entry in input_data:\n",
    "        for paragraph in entry[\"paragraphs\"]:\n",
    "            num_contexts += 1\n",
    "            paragraph_text = paragraph[\"context\"]\n",
    "            len_context = len(tokenizer.tokenize(paragraph_text))\n",
    "            length_contexts.append(len_context)\n",
    "            for qa in paragraph[\"qas\"]:\n",
    "                is_impossible = qa[\"is_impossible\"]\n",
    "                num_qas += 1\n",
    "                num_ans += 1\n",
    "                question = qa[\"question\"]\n",
    "                len_query = len(tokenizer.tokenize(question))\n",
    "                length_qas.append(len_query)\n",
    "                length_query_context.append(len_context + len_query + 3)\n",
    "                if not is_impossible:\n",
    "                    answers = qa[\"answers\"][0]\n",
    "                    answers_text = answers[\"text\"]\n",
    "                    length_ans.append(len(tokenizer.tokenize(answers_text)))\n",
    "                else:\n",
    "                    length_ans.append(0)\n",
    "    assert num_ans == num_qas\n",
    "    print(\"number questions: \", num_qas)\n",
    "    return length_contexts, length_qas, length_ans, length_query_context"
   ]
  },
  {
   "cell_type": "code",
   "execution_count": 17,
   "id": "7ba470de",
   "metadata": {},
   "outputs": [],
   "source": [
    "from transformers import BertTokenizer, XLMRobertaTokenizer\n",
    "tokenizer_mbert = BertTokenizer.from_pretrained(\"bert-base-multilingual-cased\")\n",
    "tokenizer_xlmr = XLMRobertaTokenizer.from_pretrained(\"xlm-roberta-base\")"
   ]
  },
  {
   "cell_type": "code",
   "execution_count": 18,
   "id": "32dfc006",
   "metadata": {},
   "outputs": [
    {
     "name": "stdout",
     "output_type": "stream",
     "text": [
      "number questions:  28457\n",
      "number questions:  28457\n"
     ]
    }
   ],
   "source": [
    "data_path = \"./train.json\"\n",
    "mbert_len = length_data_per_tokenizer(data_path, tokenizer_mbert)\n",
    "xlmr_len = length_data_per_tokenizer(data_path, tokenizer_xlmr)"
   ]
  },
  {
   "cell_type": "code",
   "execution_count": 19,
   "id": "401ecfbc",
   "metadata": {},
   "outputs": [],
   "source": [
    "import matplotlib.pyplot as plt"
   ]
  },
  {
   "cell_type": "code",
   "execution_count": 23,
   "id": "682ff2b0",
   "metadata": {},
   "outputs": [
    {
     "data": {
      "text/plain": [
       "[<matplotlib.lines.Line2D at 0x7f7b57492e50>]"
      ]
     },
     "execution_count": 23,
     "metadata": {},
     "output_type": "execute_result"
    },
    {
     "data": {
      "image/png": "[encoded data removed]",
      "text/plain": [
       "<Figure size 432x288 with 1 Axes>"
      ]
     },
     "metadata": {
      "needs_background": "light"
     },
     "output_type": "display_data"
    }
   ],
   "source": [
    "plt.plot(mbert_len[0])"
   ]
  },
  {
   "cell_type": "code",
   "execution_count": 21,
   "id": "61661f70",
   "metadata": {},
   "outputs": [
    {
     "name": "stdout",
     "output_type": "stream",
     "text": [
      "4101\n"
     ]
    }
   ],
   "source": [
    "print(len(mbert_len[0]))"
   ]
  },
  {
   "cell_type": "code",
   "execution_count": 47,
   "id": "c88559a0",
   "metadata": {},
   "outputs": [
    {
     "data": {
      "image/png": "[encoded data removed]",
      "text/plain": [
       "<Figure size 432x288 with 1 Axes>"
      ]
     },
     "metadata": {
      "needs_background": "light"
     },
     "output_type": "display_data"
    }
   ],
   "source": [
    "plt.hist(mbert_len[2], bins=100)\n",
    "plt.show()"
   ]
  },
  {
   "cell_type": "code",
   "execution_count": 57,
   "id": "bd9e5fab",
   "metadata": {},
   "outputs": [
    {
     "name": "stdout",
     "output_type": "stream",
     "text": [
      "95.03812770144428\n"
     ]
    }
   ],
   "source": [
    "count_512 = 0\n",
    "for l in mbert_len[3]:\n",
    "    if l <= 410:\n",
    "        count_512 += 1\n",
    "percent = count_512/len(mbert_len[3])*100\n",
    "print(percent)"
   ]
  },
  {
   "cell_type": "code",
   "execution_count": 50,
   "id": "9e7db52c",
   "metadata": {},
   "outputs": [
    {
     "data": {
      "image/png": "[encoded data removed]",
      "text/plain": [
       "<Figure size 432x288 with 1 Axes>"
      ]
     },
     "metadata": {
      "needs_background": "light"
     },
     "output_type": "display_data"
    }
   ],
   "source": [
    "plt.hist(xlmr_len[3], bins=100)\n",
    "plt.show()"
   ]
  },
  {
   "cell_type": "code",
   "execution_count": 51,
   "id": "44a0393b",
   "metadata": {},
   "outputs": [
    {
     "name": "stdout",
     "output_type": "stream",
     "text": [
      "98.95983413571354\n"
     ]
    }
   ],
   "source": [
    "count_512 = 0\n",
    "for l in mbert_len[3]:\n",
    "    if l <= 512:\n",
    "        count_512 += 1\n",
    "percent = count_512/len(mbert_len[3])*100\n",
    "print(percent)"
   ]
  },
  {
   "cell_type": "code",
   "execution_count": null,
   "id": "b3925664",
   "metadata": {},
   "outputs": [],
   "source": []
  }
 ],
 "metadata": {
  "kernelspec": {
   "display_name": "Python 3 (ipykernel)",
   "language": "python",
   "name": "python3"
  },
  "language_info": {
   "codemirror_mode": {
    "name": "ipython",
    "version": 3
   },
   "file_extension": ".py",
   "mimetype": "text/x-python",
   "name": "python",
   "nbconvert_exporter": "python",
   "pygments_lexer": "ipython3",
   "version": "3.8.10"
  }
 },
 "nbformat": 4,
 "nbformat_minor": 5
}
